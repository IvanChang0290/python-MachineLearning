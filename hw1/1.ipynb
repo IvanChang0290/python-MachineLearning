{
 "cells": [
  {
   "cell_type": "code",
   "execution_count": 9,
   "metadata": {},
   "outputs": [],
   "source": [
    "import numpy as np\n",
    "import pandas as pd\n",
    "import matplotlib.pyplot as plt\n",
    "\n",
    "import sklearn \n",
    "from sklearn.neighbors import KNeighborsClassifier\n",
    "from sklearn.metrics import accuracy_score\n",
    "from sklearn.model_selection import LeaveOneOut\n",
    "\n",
    "df1 = pd.read_csv(\"obesity_election_2004.csv\")\n",
    "df2 = pd.read_csv(\"obesity_election_2000.csv\")\n",
    "\n",
    "df1.columns = ['states','per','result','short']\n",
    "df2.columns = ['states','per','result','short']\n",
    "df1['per'] = df1['per'].str.rstrip('%').astype('float') / 100.0\n",
    "df2['per'] = df2['per'].str.rstrip('%').astype('float') / 100.0\n",
    "df1['result'] = df1['result'].map({'R': 0, 'D': 1})\n",
    "df2['result'] = df2['result'].map({'R': 0, 'D': 1})\n",
    "\n",
    "x_train = df1[['per']]\n",
    "y_train = df1['result']\n",
    "x_test = df2[['per']]\n",
    "y_test = df2['result']\n",
    "\n",
    "\n",
    "# b = range(1,21)\n",
    "\n",
    "# k = 50\n",
    "\n",
    "# knn_model = KNeighborsClassifier(n_neighbors=k)\n",
    "# knn_model.fit(x_train, y_train)\n",
    "\n",
    "# y_pred = knn_model.predict(x_test)\n",
    "\n",
    "# accuracy = accuracy_score(y_test, y_pred)\n",
    "\n",
    "\n",
    "# print(f\"k:{k} Accuracy: {accuracy * 100:.2f}%\")\n",
    " \n",
    "\n",
    "\n",
    "\n",
    "\n",
    "\n",
    "\n",
    "\n",
    "\n",
    "\n"
   ]
  },
  {
   "cell_type": "code",
   "execution_count": 8,
   "metadata": {},
   "outputs": [
    {
     "data": {
      "image/png": "[encoded data removed]",
      "text/plain": [
       "<Figure size 576x432 with 1 Axes>"
      ]
     },
     "metadata": {
      "needs_background": "light"
     },
     "output_type": "display_data"
    }
   ],
   "source": [
    "plt.figure(figsize=(8, 6))\n",
    "plt.scatter(df1['per'], df1['result'], alpha=0.5)\n",
    "# plt.xlabel('PM1.0')\n",
    "# plt.ylabel('PM2.5')\n",
    "plt.show()"
   ]
  }
 ],
 "metadata": {
  "kernelspec": {
   "display_name": "base",
   "language": "python",
   "name": "python3"
  },
  "language_info": {
   "codemirror_mode": {
    "name": "ipython",
    "version": 3
   },
   "file_extension": ".py",
   "mimetype": "text/x-python",
   "name": "python",
   "nbconvert_exporter": "python",
   "pygments_lexer": "ipython3",
   "version": "3.6.13"
  },
  "orig_nbformat": 4
 },
 "nbformat": 4,
 "nbformat_minor": 2
}
